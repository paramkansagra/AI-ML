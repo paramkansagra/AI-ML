{
 "cells": [
  {
   "attachments": {},
   "cell_type": "markdown",
   "metadata": {},
   "source": [
    "Importing the dataset"
   ]
  },
  {
   "cell_type": "code",
   "execution_count": 2,
   "metadata": {},
   "outputs": [],
   "source": [
    "import numpy as np\n",
    "import matplotlib.pyplot as plt\n",
    "import pandas as pd\n"
   ]
  },
  {
   "attachments": {},
   "cell_type": "markdown",
   "metadata": {},
   "source": [
    "Open the csv file"
   ]
  },
  {
   "cell_type": "code",
   "execution_count": 3,
   "metadata": {},
   "outputs": [],
   "source": [
    "dataset = pd.read_csv(\"Data.csv\")\n",
    "X = dataset.iloc[:, :-1].values # get all the values except the last one syntax ==> rows , cols to choose\n",
    "y = dataset.iloc[:, 3].values # get only the 4th column value"
   ]
  },
  {
   "attachments": {},
   "cell_type": "markdown",
   "metadata": {},
   "source": [
    "We will take care of the missing values by replacing them with the mean of that column"
   ]
  },
  {
   "cell_type": "code",
   "execution_count": 4,
   "metadata": {},
   "outputs": [],
   "source": [
    "from sklearn.impute import SimpleImputer # import the sklearn for pre-processing the data and taking care of the missing values\n",
    "from sklearn.preprocessing import *\n",
    "\n",
    "# here we are makeing a imputer object which will fix the data for us\n",
    "# here we have to replace the missing values or NaN values with mean\n",
    "# mean of what this is specified by the axis is axis = 0 meaning the mean of the column\n",
    "# if the axis is 1 then we have to fit it with mean of row values\n",
    "\n",
    "imputer = SimpleImputer(missing_values = np.nan,strategy=\"median\") # use np.nan for the NaN values\n",
    "imputer = imputer.fit(X[:,1:3]) # we have to take all the rows so [: ,] but we have to only fix the column which have the missing data which is 1 and 2\n",
    "X[: , 1:3] = imputer.transform(X[: ,1:3]) # now after finding the data which is missing we have to push it into the csv again\n",
    "# so we will say use all the rows [: ,] and just change the 2 rows [1:3] with the columns present in the imputer"
   ]
  },
  {
   "attachments": {},
   "cell_type": "markdown",
   "metadata": {},
   "source": [
    "Encoding catagorical data"
   ]
  },
  {
   "cell_type": "code",
   "execution_count": 16,
   "metadata": {},
   "outputs": [
    {
     "data": {
      "text/plain": [
       "array([0, 1, 0, 0, 1, 1, 0, 1, 0, 1], dtype=object)"
      ]
     },
     "execution_count": 16,
     "metadata": {},
     "output_type": "execute_result"
    }
   ],
   "source": [
    "from sklearn.preprocessing import LabelEncoder, OneHotEncoder # using this library to encode the values\n",
    "from sklearn.compose import ColumnTransformer #using column transformer as OneHotEncoder is depricated\n",
    "\n",
    "labelencode_X = LabelEncoder() #first making a label encoding values\n",
    "X[:, 0] = labelencode_X.fit_transform(X[:,0]) # now we have encoded the first column with all the values\n",
    "\n",
    "# now the issues comes that the machine learning model will think that the spain > france > germany\n",
    "# cause we used 0 1 2 for the encoding\n",
    "\n",
    "# so now we will use 3 columns with 1 for each country and then give 1 wherever they are true and 0 where they are not\n",
    "\n",
    "ct = ColumnTransformer([(\"Country\",OneHotEncoder(),[0])],remainder=\"passthrough\") #we are transforming the column country present as column 0\n",
    "# we have to use catagorical features column\n",
    "# we will catagorize which column we have to give that\n",
    "\n",
    "X = ct.fit_transform(X) # now we will fit this column transformer to data X\n",
    "\n",
    "labelencode_Y = LabelEncoder() # now we are transforming the Y column\n",
    "y[:] = labelencode_Y.fit_transform(y[:]) # now we are transforing the yes to 1 and no to 0\n",
    "\n",
    "y"
   ]
  },
  {
   "cell_type": "code",
   "execution_count": null,
   "metadata": {},
   "outputs": [],
   "source": [
    "from sklearn.model_selection import train_test_split\n",
    "\n",
    "X_train , X_test , y_train , y_split = train_test_split(X,y,test_size=0.2,random_state=0)"
   ]
  }
 ],
 "metadata": {
  "kernelspec": {
   "display_name": "Python 3",
   "language": "python",
   "name": "python3"
  },
  "language_info": {
   "codemirror_mode": {
    "name": "ipython",
    "version": 3
   },
   "file_extension": ".py",
   "mimetype": "text/x-python",
   "name": "python",
   "nbconvert_exporter": "python",
   "pygments_lexer": "ipython3",
   "version": "3.11.1"
  },
  "orig_nbformat": 4,
  "vscode": {
   "interpreter": {
    "hash": "aee8b7b246df8f9039afb4144a1f6fd8d2ca17a180786b69acc140d282b71a49"
   }
  }
 },
 "nbformat": 4,
 "nbformat_minor": 2
}
