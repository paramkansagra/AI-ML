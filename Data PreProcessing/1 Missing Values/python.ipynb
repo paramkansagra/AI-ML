{
 "cells": [
  {
   "attachments": {},
   "cell_type": "markdown",
   "metadata": {},
   "source": [
    "Importing the dataset"
   ]
  },
  {
   "cell_type": "code",
   "execution_count": 23,
   "metadata": {},
   "outputs": [],
   "source": [
    "import numpy as np\n",
    "import matplotlib.pyplot as plt\n",
    "import pandas as pd\n"
   ]
  },
  {
   "attachments": {},
   "cell_type": "markdown",
   "metadata": {},
   "source": [
    "Open the csv file"
   ]
  },
  {
   "cell_type": "code",
   "execution_count": 24,
   "metadata": {},
   "outputs": [],
   "source": [
    "dataset = pd.read_csv(\"Data.csv\")\n",
    "X = dataset.iloc[:, :-1].values # get all the values except the last one syntax ==> rows , cols to choose\n",
    "y = dataset.iloc[:, 3].values # get only the 4th column value"
   ]
  },
  {
   "attachments": {},
   "cell_type": "markdown",
   "metadata": {},
   "source": [
    "We will take care of the missing values by replacing them with the mean of that column"
   ]
  },
  {
   "cell_type": "code",
   "execution_count": 26,
   "metadata": {},
   "outputs": [
    {
     "data": {
      "text/plain": [
       "array([['France', 44.0, 72000.0],\n",
       "       ['Spain', 27.0, 48000.0],\n",
       "       ['Germany', 30.0, 54000.0],\n",
       "       ['Spain', 38.0, 61000.0],\n",
       "       ['Germany', 40.0, 61000.0],\n",
       "       ['France', 35.0, 58000.0],\n",
       "       ['Spain', 38.0, 52000.0],\n",
       "       ['France', 48.0, 79000.0],\n",
       "       ['Germany', 50.0, 83000.0],\n",
       "       ['France', 37.0, 67000.0]], dtype=object)"
      ]
     },
     "execution_count": 26,
     "metadata": {},
     "output_type": "execute_result"
    }
   ],
   "source": [
    "from sklearn.impute import SimpleImputer # import the sklearn for pre-processing the data and taking care of the missing values\n",
    "from sklearn.preprocessing import *\n",
    "\n",
    "# here we are makeing a imputer object which will fix the data for us\n",
    "# here we have to replace the missing values or NaN values with mean\n",
    "# mean of what this is specified by the axis is axis = 0 meaning the mean of the column\n",
    "# if the axis is 1 then we have to fit it with mean of row values\n",
    "\n",
    "imputer = SimpleImputer(missing_values = np.nan,strategy=\"median\") # use np.nan for the NaN values\n",
    "imputer = imputer.fit(X[:,1:3]) # we have to take all the rows so [: ,] but we have to only fix the column which have the missing data which is 1 and 2\n",
    "X[: , 1:3] = imputer.transform(X[: ,1:3]) # now after finding the data which is missing we have to push it into the csv again\n",
    "# so we will say use all the rows [: ,] and just change the 2 rows [1:3] with the columns present in the imputer"
   ]
  }
 ],
 "metadata": {
  "kernelspec": {
   "display_name": "Python 3",
   "language": "python",
   "name": "python3"
  },
  "language_info": {
   "codemirror_mode": {
    "name": "ipython",
    "version": 3
   },
   "file_extension": ".py",
   "mimetype": "text/x-python",
   "name": "python",
   "nbconvert_exporter": "python",
   "pygments_lexer": "ipython3",
   "version": "3.11.1"
  },
  "orig_nbformat": 4,
  "vscode": {
   "interpreter": {
    "hash": "aee8b7b246df8f9039afb4144a1f6fd8d2ca17a180786b69acc140d282b71a49"
   }
  }
 },
 "nbformat": 4,
 "nbformat_minor": 2
}
