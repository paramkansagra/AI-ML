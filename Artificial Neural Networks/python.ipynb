{
  "cells": [
    {
      "cell_type": "markdown",
      "metadata": {
        "id": "Y5oqtRCXAWak"
      },
      "source": [
        "# Import the library"
      ]
    },
    {
      "cell_type": "code",
      "execution_count": null,
      "metadata": {
        "id": "lBZFgc2yAQWQ"
      },
      "outputs": [],
      "source": [
        "import numpy as np\n",
        "import pandas as pd\n",
        "import tensorflow as tf"
      ]
    },
    {
      "cell_type": "markdown",
      "metadata": {
        "id": "NOF_umFVAY1G"
      },
      "source": [
        "Import the dataset"
      ]
    },
    {
      "cell_type": "code",
      "execution_count": null,
      "metadata": {
        "id": "LoKHP9YQAaNM"
      },
      "outputs": [],
      "source": [
        "dataset = pd.read_csv(\"Churn_Modelling.csv\")\n",
        "X = dataset.iloc[:,3:-1].values\n",
        "y = dataset.iloc[:,-1].values"
      ]
    },
    {
      "cell_type": "markdown",
      "metadata": {
        "id": "NzB58F2rA7w3"
      },
      "source": [
        "# Encoding catagorical data"
      ]
    },
    {
      "cell_type": "markdown",
      "metadata": {
        "id": "uKaL6RX7nclq"
      },
      "source": [
        "Label Encoding Gender\n",
        "\n"
      ]
    },
    {
      "cell_type": "code",
      "execution_count": null,
      "metadata": {
        "colab": {
          "base_uri": "https://localhost:8080/"
        },
        "id": "3owDkN0mnZbV",
        "outputId": "acebe558-9e31-490c-d14c-4a8456447818"
      },
      "outputs": [],
      "source": [
        "from sklearn.preprocessing import LabelEncoder\n",
        "\n",
        "le = LabelEncoder()\n",
        "X[:,2] = le.fit_transform(X[:,2])\n",
        "\n",
        "print(X)"
      ]
    },
    {
      "cell_type": "markdown",
      "metadata": {
        "id": "NnDI2jIqoFO4"
      },
      "source": [
        "One Hot encoding geography"
      ]
    },
    {
      "cell_type": "code",
      "execution_count": null,
      "metadata": {
        "id": "8FPCdp3woOK9"
      },
      "outputs": [],
      "source": [
        "from sklearn.compose import ColumnTransformer\n",
        "from sklearn.preprocessing import OneHotEncoder\n",
        "\n",
        "ct = ColumnTransformer(transformers = [('encoder',OneHotEncoder(),[1])],remainder=\"passthrough\")\n",
        "X = np.array(ct.fit_transform(X))"
      ]
    },
    {
      "cell_type": "code",
      "execution_count": null,
      "metadata": {
        "colab": {
          "base_uri": "https://localhost:8080/"
        },
        "id": "hocK8-H7o3u_",
        "outputId": "52bd5ad1-4498-4793-ec81-1394821a04c7"
      },
      "outputs": [],
      "source": [
        "print(X)"
      ]
    },
    {
      "cell_type": "markdown",
      "metadata": {
        "id": "dTDfoXBapB2s"
      },
      "source": [
        "Split the dataset into test and train set"
      ]
    },
    {
      "cell_type": "code",
      "execution_count": null,
      "metadata": {
        "id": "PFfPJI-VpFhg"
      },
      "outputs": [],
      "source": [
        "from sklearn.model_selection import train_test_split\n",
        "\n",
        "X_train , X_test , y_train , y_test = train_test_split(X,y,test_size = 0.2 , random_state = 0)"
      ]
    },
    {
      "cell_type": "markdown",
      "metadata": {
        "id": "rrfllVX0pZo8"
      },
      "source": [
        "Feature scaling"
      ]
    },
    {
      "cell_type": "code",
      "execution_count": null,
      "metadata": {
        "id": "mHfJRyKUpbAt"
      },
      "outputs": [],
      "source": [
        "from sklearn.preprocessing import StandardScaler\n",
        "\n",
        "\n",
        "# scaling all the columns in the data as it is nessary in ANN\n",
        "sc = StandardScaler()\n",
        "X_train = sc.fit_transform(X_train)\n",
        "X_test = sc.transform(X_test)"
      ]
    },
    {
      "cell_type": "markdown",
      "metadata": {
        "id": "_gJVXW2qqjT5"
      },
      "source": [
        "# Building the ANN"
      ]
    },
    {
      "cell_type": "markdown",
      "metadata": {
        "id": "Fnl8gLr9qo54"
      },
      "source": [
        "Initialize the ANN"
      ]
    },
    {
      "cell_type": "code",
      "execution_count": null,
      "metadata": {
        "id": "1RoqkGWXqr9e"
      },
      "outputs": [],
      "source": [
        "ann = tf.keras.models.Sequential() # this initializes the layers of the ANN"
      ]
    },
    {
      "cell_type": "markdown",
      "metadata": {
        "id": "9oVtd1WurR5T"
      },
      "source": [
        "Adding the input layer"
      ]
    },
    {
      "cell_type": "code",
      "execution_count": null,
      "metadata": {
        "id": "0kyNp5sNrT3z"
      },
      "outputs": [],
      "source": [
        "ann.add(tf.keras.layers.Dense(units=6,activation='relu'))"
      ]
    },
    {
      "cell_type": "markdown",
      "metadata": {
        "id": "zc3kqTydsRDT"
      },
      "source": [
        "Add a second layer"
      ]
    },
    {
      "cell_type": "code",
      "execution_count": null,
      "metadata": {
        "id": "mA4SmUgwsUB0"
      },
      "outputs": [],
      "source": [
        "ann.add(tf.keras.layers.Dense(units=6,activation='relu'))"
      ]
    },
    {
      "cell_type": "markdown",
      "metadata": {
        "id": "mJM510-rsZ3A"
      },
      "source": [
        "Add a output layer"
      ]
    },
    {
      "cell_type": "code",
      "execution_count": null,
      "metadata": {
        "id": "w7GT22Acsba6"
      },
      "outputs": [],
      "source": [
        "ann.add(tf.keras.layers.Dense(units=1,activation='sigmoid'))"
      ]
    },
    {
      "cell_type": "markdown",
      "metadata": {
        "id": "br2xSJestGuf"
      },
      "source": [
        "# Training the ANN"
      ]
    },
    {
      "cell_type": "markdown",
      "metadata": {
        "id": "ZuG8EpRXtLFd"
      },
      "source": [
        "Compiling the ANN"
      ]
    },
    {
      "cell_type": "code",
      "execution_count": null,
      "metadata": {
        "id": "PrQqZi_WtKDf"
      },
      "outputs": [],
      "source": [
        "ann.compile(optimizer = 'adam' , loss = 'binary_crossentropy' , metrics = ['accuracy']) # catagorical_cross entroy as loss for non binary outputs"
      ]
    },
    {
      "cell_type": "markdown",
      "metadata": {
        "id": "HWXd-_6-uVoc"
      },
      "source": [
        "Training the ANN"
      ]
    },
    {
      "cell_type": "code",
      "execution_count": null,
      "metadata": {
        "colab": {
          "base_uri": "https://localhost:8080/"
        },
        "id": "RNfZRKRTuYAy",
        "outputId": "93317820-52d7-4ec2-9571-2b1749617176"
      },
      "outputs": [],
      "source": [
        "ann.fit(X_train , y_train , batch_size = 32 , epochs = 100)"
      ]
    },
    {
      "cell_type": "markdown",
      "metadata": {
        "id": "5Xftbvluw0Mm"
      },
      "source": [
        "Predict outputs"
      ]
    },
    {
      "cell_type": "code",
      "execution_count": null,
      "metadata": {
        "colab": {
          "base_uri": "https://localhost:8080/"
        },
        "id": "YIkypH36w1so",
        "outputId": "56270abd-b97a-4bda-fec4-31a135bd0f2d"
      },
      "outputs": [],
      "source": [
        "print(ann.predict(sc.transform([[1.0,0.0,0.0,600,1,40,3,60000,2,1,1,50000]])) > 0.5)"
      ]
    },
    {
      "cell_type": "markdown",
      "metadata": {
        "id": "E3ZqNVs3ygF_"
      },
      "source": [
        "Predict on test case values"
      ]
    },
    {
      "cell_type": "code",
      "execution_count": null,
      "metadata": {
        "colab": {
          "base_uri": "https://localhost:8080/"
        },
        "id": "8zOhpwcMygh_",
        "outputId": "04e5c27d-85c0-4d95-c464-750b5c92db04"
      },
      "outputs": [],
      "source": [
        "y_pred = ann.predict(X_test)"
      ]
    },
    {
      "cell_type": "code",
      "execution_count": null,
      "metadata": {
        "id": "BGhH4V7vy31R"
      },
      "outputs": [],
      "source": [
        "y_pred = (y_pred > 0.5)"
      ]
    },
    {
      "cell_type": "markdown",
      "metadata": {
        "id": "_O6weDSwy3jH"
      },
      "source": []
    },
    {
      "cell_type": "markdown",
      "metadata": {
        "id": "Ufx5n8GdyplK"
      },
      "source": [
        "Create a confusion matrix"
      ]
    },
    {
      "cell_type": "code",
      "execution_count": null,
      "metadata": {
        "colab": {
          "base_uri": "https://localhost:8080/"
        },
        "id": "jecoxjvpyrBe",
        "outputId": "1d9ae170-945f-4bf6-9d92-0db641d44cb4"
      },
      "outputs": [],
      "source": [
        "from sklearn.metrics import confusion_matrix\n",
        "\n",
        "cm = confusion_matrix(y_test,y_pred)\n",
        "print(cm)"
      ]
    },
    {
      "cell_type": "code",
      "execution_count": null,
      "metadata": {
        "colab": {
          "base_uri": "https://localhost:8080/"
        },
        "id": "N3nbIoANzJj0",
        "outputId": "4e338277-22cc-4866-d6f4-9bda7347c89e"
      },
      "outputs": [],
      "source": [
        "from sklearn.metrics import accuracy_score\n",
        "\n",
        "accuracy_score(y_test,y_pred)"
      ]
    }
  ],
  "metadata": {
    "colab": {
      "provenance": [],
      "toc_visible": true
    },
    "kernelspec": {
      "display_name": "Python 3",
      "language": "python",
      "name": "python3"
    },
    "language_info": {
      "codemirror_mode": {
        "name": "ipython",
        "version": 3
      },
      "file_extension": ".py",
      "mimetype": "text/x-python",
      "name": "python",
      "nbconvert_exporter": "python",
      "pygments_lexer": "ipython3",
      "version": "3.10.10"
    },
    "vscode": {
      "interpreter": {
        "hash": "aee8b7b246df8f9039afb4144a1f6fd8d2ca17a180786b69acc140d282b71a49"
      }
    }
  },
  "nbformat": 4,
  "nbformat_minor": 0
}
